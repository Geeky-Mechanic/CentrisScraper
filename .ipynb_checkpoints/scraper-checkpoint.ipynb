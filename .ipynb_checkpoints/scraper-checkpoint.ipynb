{
 "cells": [
  {
   "cell_type": "code",
   "execution_count": null,
   "id": "4af7e9ba",
   "metadata": {},
   "outputs": [],
   "source": [
    "#@markdown # Connect to Google Drive\n",
    "from google.colab import drive\n",
    "drive.mount('/content/gdrive')"
   ]
  },
  {
   "cell_type": "code",
   "execution_count": null,
   "id": "932b9bf9",
   "metadata": {},
   "outputs": [],
   "source": [
    "#@markdown # Install requirements\n",
    "!apt-get update \n",
    "!apt install chromium-chromedriver\n",
    "!cp /usr/lib/chromium-browser/chromedriver /usr/bin\n",
    "!pip install pandas selenium webdriver_manager openpyxl"
   ]
  },
  {
   "cell_type": "code",
   "execution_count": 1,
   "id": "1858674e",
   "metadata": {},
   "outputs": [
    {
     "ename": "ModuleNotFoundError",
     "evalue": "No module named 'webdriver_manager'",
     "output_type": "error",
     "traceback": [
      "\u001b[0;31m---------------------------------------------------------------------------\u001b[0m",
      "\u001b[0;31mModuleNotFoundError\u001b[0m                       Traceback (most recent call last)",
      "Cell \u001b[0;32mIn[1], line 3\u001b[0m\n\u001b[1;32m      1\u001b[0m \u001b[38;5;28;01mfrom\u001b[39;00m \u001b[38;5;21;01mselenium\u001b[39;00m \u001b[38;5;28;01mimport\u001b[39;00m webdriver\n\u001b[1;32m      2\u001b[0m \u001b[38;5;28;01mfrom\u001b[39;00m \u001b[38;5;21;01mselenium\u001b[39;00m\u001b[38;5;21;01m.\u001b[39;00m\u001b[38;5;21;01mwebdriver\u001b[39;00m\u001b[38;5;21;01m.\u001b[39;00m\u001b[38;5;21;01mchrome\u001b[39;00m\u001b[38;5;21;01m.\u001b[39;00m\u001b[38;5;21;01mservice\u001b[39;00m \u001b[38;5;28;01mimport\u001b[39;00m Service\n\u001b[0;32m----> 3\u001b[0m \u001b[38;5;28;01mfrom\u001b[39;00m \u001b[38;5;21;01mwebdriver_manager\u001b[39;00m\u001b[38;5;21;01m.\u001b[39;00m\u001b[38;5;21;01mchrome\u001b[39;00m \u001b[38;5;28;01mimport\u001b[39;00m ChromeDriverManager\n\u001b[1;32m      4\u001b[0m \u001b[38;5;28;01mimport\u001b[39;00m \u001b[38;5;21;01mpandas\u001b[39;00m \u001b[38;5;28;01mas\u001b[39;00m \u001b[38;5;21;01mpd\u001b[39;00m\n\u001b[1;32m      5\u001b[0m \u001b[38;5;28;01mfrom\u001b[39;00m \u001b[38;5;21;01mdatetime\u001b[39;00m \u001b[38;5;28;01mimport\u001b[39;00m datetime\n",
      "\u001b[0;31mModuleNotFoundError\u001b[0m: No module named 'webdriver_manager'"
     ]
    }
   ],
   "source": [
    "from selenium import webdriver\n",
    "from webdriver_manager.chrome import ChromeDriverManager\n",
    "import pandas as pd\n",
    "from datetime import datetime\n",
    "\n",
    "# Get the current date and time\n",
    "current_datetime = datetime.now().strftime('%Y_%m_%d_%H_%M_%S')\n",
    "\n",
    "# Setup the WebDriver\n",
    "chrome_options = webdriver.ChromeOptions()\n",
    "chrome_options.add_argument('--headless')\n",
    "chrome_options.add_argument('--no-sandbox')\n",
    "chrome_options.add_argument('--disable-dev-shm-usage')\n",
    "\n",
    "driver = webdriver.Chrome(options=chrome_options)\n",
    "\n",
    "url = \"https://www.centris.ca/fr\" #@param{type:\"string\"}\n",
    "\n",
    "localisation = \"Abitibi-Témiscamingue\" #@param{type:\"string\"}\n",
    "\n",
    "# Navigate to the website\n",
    "driver.get(url)\n",
    "\n",
    "search_bar = driver.find_element(By.XPATH, \"/html/body/main/div[8]/div/div[2]/div[1]/div/div[2]/div[1]/form/span/span[1]/span/ul/li/input\")\n",
    "\n",
    "search_bar.send_keys(localisation)\n",
    "\n",
    "filter_button = driver.find_element(By.XPATH, \"/html/body/main/div[8]/div/div[2]/div[1]/div/div[2]/div[2]/div[4]/button/span\")\n",
    "\n",
    "filter_button.click()\n",
    "\n",
    "propriety_type = driver.find_element(By.XPATH, \"/html/body/main/div[8]/div/div[2]/div[1]/div/div[2]/div[2]/div[5]/div/div/div[3]/div/div[1]/h2/button\")\n",
    "\n",
    "propriety_type.click()\n",
    "\n",
    "plex_button = driver.find_element(By.XPATH, \"/html/body/main/div[8]/div/div[2]/div[1]/div/div[2]/div[2]/div[5]/div/div/div[3]/div/div[2]/div/div/div[5]/label\")\n",
    "\n",
    "plex_button.click()\n",
    "\n",
    "submit_button = driver.find_element(By.XPATH, \"/html/body/main/div[8]/div/div[2]/div[1]/div/div[2]/div[2]/button/i\")\n",
    "\n",
    "submit_button.click()\n",
    "\n",
    "print(\"Searching for 'PLEX' buildings in \" + localisation)\n",
    "\n",
    "properties = driver.find_elements(By.CLASS_NAME, \"property-thumbnail-item\")\n",
    "\n",
    "df = pd.DataFrame(columns=['Address', 'Price', 'Revenue'])\n",
    "\n",
    "for property in properties:\n",
    "    property.click()\n",
    "    address = driver.find_element(By.XPATH, \"/html/body/main/div[11]/div[2]/div/div[2]/div[1]/div/div[3]/div/article/div[1]/div[1]/div/div[1]/h2\").text()\n",
    "    price = driver.find_element(By.XPATH, \"/html/body/main/div[11]/div[2]/div/div[2]/div[1]/div/div[3]/div/article/div[1]/div[1]/div/div[2]/div/span[1]\").text()\n",
    "    revenue = driver.find_element(By.XPATH, \"/html/body/main/div[11]/div[2]/div/div[2]/div[1]/div/div[3]/div/article/div[3]/div[1]/div[6]/div[10]/div[2]/span\").text()\n",
    "    df = df.append({'Address': address, 'Price': price, 'Revenue': revenue}, ignore_index=True)\n",
    "\n",
    "    \n",
    "# Close the browser\n",
    "driver.quit()\n",
    "\n",
    "# Save the DataFrame to an Excel file\n",
    "df.to_excel('/content/gdrive' + current_datetime + '.xlsx', index=False)\n",
    "\n"
   ]
  },
  {
   "cell_type": "code",
   "execution_count": null,
   "id": "30b2f1ad",
   "metadata": {},
   "outputs": [],
   "source": []
  }
 ],
 "metadata": {
  "kernelspec": {
   "display_name": "Python 3 (ipykernel)",
   "language": "python",
   "name": "python3"
  },
  "language_info": {
   "codemirror_mode": {
    "name": "ipython",
    "version": 3
   },
   "file_extension": ".py",
   "mimetype": "text/x-python",
   "name": "python",
   "nbconvert_exporter": "python",
   "pygments_lexer": "ipython3",
   "version": "3.10.6"
  }
 },
 "nbformat": 4,
 "nbformat_minor": 5
}
